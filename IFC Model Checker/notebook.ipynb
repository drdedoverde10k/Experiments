{
 "cells": [
  {
   "cell_type": "markdown",
   "metadata": {},
   "source": [
    "# Model Checker"
   ]
  },
  {
   "cell_type": "code",
   "execution_count": 1,
   "metadata": {},
   "outputs": [
    {
     "name": "stdout",
     "output_type": "stream",
     "text": [
      "3.11.4 (v3.11.4:d2340ef257, Jun  6 2023, 19:15:51) [Clang 13.0.0 (clang-1300.0.29.30)]\n"
     ]
    }
   ],
   "source": [
    "import ifcopenshell\n",
    "import ifcopenshell.util.pset\n",
    "import pandas as pd\n",
    "from openpyxl import Workbook\n",
    "\n",
    "import sys\n",
    "print(sys.version)"
   ]
  },
  {
   "cell_type": "code",
   "execution_count": 2,
   "metadata": {},
   "outputs": [
    {
     "name": "stdout",
     "output_type": "stream",
     "text": [
      "0.8.0\n"
     ]
    }
   ],
   "source": [
    "import ifcopenshell\n",
    "print(ifcopenshell.version)\n",
    "model = ifcopenshell.file()"
   ]
  },
  {
   "cell_type": "code",
   "execution_count": 3,
   "metadata": {},
   "outputs": [],
   "source": [
    "import ifcopenshell\n",
    "model = ifcopenshell.open('AC20-FZK-Haus.ifc')"
   ]
  },
  {
   "cell_type": "code",
   "execution_count": 4,
   "metadata": {},
   "outputs": [
    {
     "name": "stdout",
     "output_type": "stream",
     "text": [
      "IFC4\n"
     ]
    }
   ],
   "source": [
    "print(model.schema) # May return IFC2X3, IFC4, or IFC4X3."
   ]
  },
  {
   "cell_type": "code",
   "execution_count": 5,
   "metadata": {},
   "outputs": [
    {
     "name": "stdout",
     "output_type": "stream",
     "text": [
      "#1=IfcPerson($,'Nicht definiert',$,$,$,$,$,$)\n"
     ]
    }
   ],
   "source": [
    "print(model.by_id(1))"
   ]
  },
  {
   "cell_type": "code",
   "execution_count": 6,
   "metadata": {},
   "outputs": [
    {
     "name": "stdout",
     "output_type": "stream",
     "text": [
      "13\n"
     ]
    }
   ],
   "source": [
    "walls = model.by_type('IfcWall')\n",
    "print(len(walls))"
   ]
  },
  {
   "cell_type": "code",
   "execution_count": 7,
   "metadata": {},
   "outputs": [
    {
     "data": {
      "text/plain": [
       "#15042=IfcWallStandardCase('2XPyKWY018sA1ygZKgQPtU',#12,'Wand-Int-ERDG-4',$,$,#14983,#15037,'BC6F0F70-6195-495E-A2-FC-239713029DB1',$)"
      ]
     },
     "execution_count": 7,
     "metadata": {},
     "output_type": "execute_result"
    }
   ],
   "source": [
    "model.by_type('IfcWall')[0]"
   ]
  },
  {
   "cell_type": "code",
   "execution_count": 9,
   "metadata": {},
   "outputs": [
    {
     "name": "stdout",
     "output_type": "stream",
     "text": [
      "IfcWallStandardCase\n"
     ]
    }
   ],
   "source": [
    "wall = model.by_type('IfcWall')[0]\n",
    "print(wall.is_a()) # Returns 'IfcWall'"
   ]
  },
  {
   "cell_type": "code",
   "execution_count": 10,
   "metadata": {},
   "outputs": [
    {
     "name": "stdout",
     "output_type": "stream",
     "text": [
      "{'id': 15042, 'type': 'IfcWallStandardCase', 'GlobalId': '2XPyKWY018sA1ygZKgQPtU', 'OwnerHistory': #12=IfcOwnerHistory(#7,#11,$,.ADDED.,$,$,$,1482339244), 'Name': 'Wand-Int-ERDG-4', 'Description': None, 'ObjectType': None, 'ObjectPlacement': #14983=IfcLocalPlacement(#477,#14982), 'Representation': #15037=IfcProductDefinitionShape($,$,(#15016,#15024,#15033)), 'Tag': 'BC6F0F70-6195-495E-A2-FC-239713029DB1', 'PredefinedType': None}\n"
     ]
    }
   ],
   "source": [
    "# Gives us a dictionary of attributes, such as:\n",
    "# {'id': 8, 'type': 'IfcWall', 'GlobalId': '2_qMTAIHrEYu0vYcqK8cBX', ... }\n",
    "print(wall.get_info())"
   ]
  },
  {
   "cell_type": "code",
   "execution_count": 11,
   "metadata": {},
   "outputs": [
    {
     "name": "stdout",
     "output_type": "stream",
     "text": [
      "{'Pset_WallCommon': {'ThermalTransmittance': 1.5, 'id': 15079}, 'AC_Pset_Name': {'Name': 'Wand-Int-ERDG-4', 'id': 15087}, 'ArchiCADProperties': {'Komplette Element-ID': 'Wand-Int-ERDG-4', 'Kompakte Element-ID': 'Wand-Int-ERDG-4', 'Name des Sachmerkmal-Objekts': '', 'Ursprungsgeschoss': 'Erdgeschoss', 'Raumname': 'Wohnen', 'Raumnummer': '5', 'Ebene': 'Innenwände', 'Typ': 'Wand', 'Geschützt': False, 'Baustoff / Mehrschichtiger Aufbau / Profil / Schraffur': 'Leichtbeton 102890359', 'Etikettentext': '', 'Eindeutige ID': 'BC6F0F70-6195-495E-A2FC-239713029DB1', 'Verknüpfte Änderungen': '', 'Tragende Funktion': 'Nicht definiert', 'Lage': 'Nicht definiert', 'Element-Klassifizierung': 'Wand', 'Umbau-Status': 'Bestand', 'Anzeigen auf Umbau-Filter': 'Alle relevanten Filter', 'Struktur - Typ': 'Einfach', 'ARCHICAD IFC ID': '2XPyKWY018sA1ygZKgQPtU', 'Externe IFC ID': '', 'Baustoff/Mehrschicht/Profil': 'Leichtbeton 102890359', 'Außenseite Oberfläche': 'Anstrich', 'Innenseite Oberfläche': 'Anstrich', 'Oberfläche Kante': 'Anstrich', 'Äußerer Neigungswinkel': 90.0, 'Innerer Neigungswinkel': 90.0, 'Wand Neigungstyp': 'gerade', 'Lage der Referenzlinie': 'Außen', 'Geschoss für Oberkantenverknüpfung': 'Nicht verknüpft', 'Geometriemethode': 'Uni', 'id': 15124}, 'BaseQuantities': {'Length': 4.17, 'Height': 2.5, 'Width': 0.24, 'GrossFootprintArea': 1.0008, 'NetFootprintArea': 1.0008, 'GrossSideArea': 10.425, 'NetSideArea': 10.425, 'GrossVolume': 2.49624, 'NetVolume': 2.49624, 'id': 15169}, 'ArchiCADQuantities': {'Höhenangabe zum Projekt-Nullpunkt': 0.0, 'Höhe zu Geschoss': 0.0, 'Höhe': 2.5, 'Oberflächenbereich': 10.125, 'Netto-Volumen': 2.49624, 'Fläche': 1.0008, 'Dicke': 0.24, 'Wandlänge an der Außenseite': 4.05, 'Wandlänge an der Innenseite': 4.29, 'Netto-Oberflächenbereich an der Außenseite': 10.125, 'Netto-Oberflächenbereich an der Innenseite': 10.725, 'Netto-Oberflächenbereich an den Kanten': 3.35824588643, 'Konditionales Volumen': 2.49624, 'Anzahl der Türen': 0.0, 'Anzahl der Fenster': 0.0, 'Anzahl der Durchbrüche (Anzahl der leeren Öffnungen)': 0.0, 'Anzahl der Stützen': 0.0, 'Kombinierte Breite der Türen': 0.0, 'Kombinierte Breite der Fenster': 0.0, 'Wandstärke am Ende': 0.24, 'Minimale Höhe der Wand': 2.26, 'Maximale Höhe der Wand': 2.5, 'Länge der Wand in der Achse': 4.17, 'Fläche der Wand': 1.0008, 'Umfang der Wand': 8.91941125497, 'Brutto-Wandoberflächenbereich an der Innenseite': 10.725, 'Brutto-Wandoberflächenbereich an der Außenseite': 10.125, 'Brutto-Volumen der Wand ': 2.502, 'Analytische Oberfläche der Öffnungen an der Innenseite': 0.0, 'Analytische Oberfläche der Öffnungen an der Außenseite': 0.0, 'Analytisches Volumen der Öffnungen in der Wand': 0.0, 'Wand-Schichtdicke an der Außenseite': 0.0, 'Wand-Schichtdicke an der Innenseite': 0.0, 'Dämmungsschichtdicke': 0.0, 'Luftschichtdicke': 0.0, 'Minimale Höhe der Wandschicht an der Außenseite': 0.0, 'Maximale Höhe der Wandschicht an der Außenseite': 0.0, 'Minimale Höhe der Wandschicht an der Innenseite': 0.0, 'Maximale Höhe der Wandschicht an der Innenseite': 0.0, 'Konditionale Länge an der Außenseite': 4.05, 'Konditionale Länge an der Innenseite': 4.29, 'Konditionaler Oberflächenbereich an der Außenseite': 10.125, 'Konditionaler Oberflächenbereich an der Innenseite': 10.725, 'Wand-Schichtvolumen an der Außenseite': 0.0, 'Wand-Schichtvolumen an der Innenseite': 0.0, 'Konditionales Schichtvolumen an der Außenseite': 0.0, 'Konditionales Wand-Schichtvolumen an der Innenseite': 0.0, 'Länge der Referenzlinie': 4.59, 'Abstand zu Ursprungsgeschoss': 0.0, 'Abstand Oberkante': 0.0, 'Durchschnittliche Länge': 4.17, 'Oberflächenbereich der Fenster in der Wand': 0.0, 'Oberflächenbereich der Türen in der Wand': 0.0, 'Oberflächenbereich der leeren Öffnungen in der Wand': 0.0, 'Volumen der Stützen': 0.0, 'id': 15229}}\n"
     ]
    }
   ],
   "source": [
    "import ifcopenshell.util\n",
    "import ifcopenshell.util.element\n",
    "print(ifcopenshell.util.element.get_psets(wall))"
   ]
  },
  {
   "cell_type": "code",
   "execution_count": 9,
   "metadata": {},
   "outputs": [
    {
     "name": "stdout",
     "output_type": "stream",
     "text": [
      "{'Pset_WallCommon': {'ThermalTransmittance': 1.5, 'id': 15079}, 'AC_Pset_Name': {'Name': 'Wand-Int-ERDG-4', 'id': 15087}, 'ArchiCADProperties': {'Komplette Element-ID': 'Wand-Int-ERDG-4', 'Kompakte Element-ID': 'Wand-Int-ERDG-4', 'Name des Sachmerkmal-Objekts': '', 'Ursprungsgeschoss': 'Erdgeschoss', 'Raumname': 'Wohnen', 'Raumnummer': '5', 'Ebene': 'Innenwände', 'Typ': 'Wand', 'Geschützt': False, 'Baustoff / Mehrschichtiger Aufbau / Profil / Schraffur': 'Leichtbeton 102890359', 'Etikettentext': '', 'Eindeutige ID': 'BC6F0F70-6195-495E-A2FC-239713029DB1', 'Verknüpfte Änderungen': '', 'Tragende Funktion': 'Nicht definiert', 'Lage': 'Nicht definiert', 'Element-Klassifizierung': 'Wand', 'Umbau-Status': 'Bestand', 'Anzeigen auf Umbau-Filter': 'Alle relevanten Filter', 'Struktur - Typ': 'Einfach', 'ARCHICAD IFC ID': '2XPyKWY018sA1ygZKgQPtU', 'Externe IFC ID': '', 'Baustoff/Mehrschicht/Profil': 'Leichtbeton 102890359', 'Außenseite Oberfläche': 'Anstrich', 'Innenseite Oberfläche': 'Anstrich', 'Oberfläche Kante': 'Anstrich', 'Äußerer Neigungswinkel': 90.0, 'Innerer Neigungswinkel': 90.0, 'Wand Neigungstyp': 'gerade', 'Lage der Referenzlinie': 'Außen', 'Geschoss für Oberkantenverknüpfung': 'Nicht verknüpft', 'Geometriemethode': 'Uni', 'id': 15124}, 'BaseQuantities': {'Length': 4.17, 'Height': 2.5, 'Width': 0.24, 'GrossFootprintArea': 1.0008, 'NetFootprintArea': 1.0008, 'GrossSideArea': 10.425, 'NetSideArea': 10.425, 'GrossVolume': 2.49624, 'NetVolume': 2.49624, 'id': 15169}, 'ArchiCADQuantities': {'Höhenangabe zum Projekt-Nullpunkt': 0.0, 'Höhe zu Geschoss': 0.0, 'Höhe': 2.5, 'Oberflächenbereich': 10.125, 'Netto-Volumen': 2.49624, 'Fläche': 1.0008, 'Dicke': 0.24, 'Wandlänge an der Außenseite': 4.05, 'Wandlänge an der Innenseite': 4.29, 'Netto-Oberflächenbereich an der Außenseite': 10.125, 'Netto-Oberflächenbereich an der Innenseite': 10.725, 'Netto-Oberflächenbereich an den Kanten': 3.35824588643, 'Konditionales Volumen': 2.49624, 'Anzahl der Türen': 0.0, 'Anzahl der Fenster': 0.0, 'Anzahl der Durchbrüche (Anzahl der leeren Öffnungen)': 0.0, 'Anzahl der Stützen': 0.0, 'Kombinierte Breite der Türen': 0.0, 'Kombinierte Breite der Fenster': 0.0, 'Wandstärke am Ende': 0.24, 'Minimale Höhe der Wand': 2.26, 'Maximale Höhe der Wand': 2.5, 'Länge der Wand in der Achse': 4.17, 'Fläche der Wand': 1.0008, 'Umfang der Wand': 8.91941125497, 'Brutto-Wandoberflächenbereich an der Innenseite': 10.725, 'Brutto-Wandoberflächenbereich an der Außenseite': 10.125, 'Brutto-Volumen der Wand ': 2.502, 'Analytische Oberfläche der Öffnungen an der Innenseite': 0.0, 'Analytische Oberfläche der Öffnungen an der Außenseite': 0.0, 'Analytisches Volumen der Öffnungen in der Wand': 0.0, 'Wand-Schichtdicke an der Außenseite': 0.0, 'Wand-Schichtdicke an der Innenseite': 0.0, 'Dämmungsschichtdicke': 0.0, 'Luftschichtdicke': 0.0, 'Minimale Höhe der Wandschicht an der Außenseite': 0.0, 'Maximale Höhe der Wandschicht an der Außenseite': 0.0, 'Minimale Höhe der Wandschicht an der Innenseite': 0.0, 'Maximale Höhe der Wandschicht an der Innenseite': 0.0, 'Konditionale Länge an der Außenseite': 4.05, 'Konditionale Länge an der Innenseite': 4.29, 'Konditionaler Oberflächenbereich an der Außenseite': 10.125, 'Konditionaler Oberflächenbereich an der Innenseite': 10.725, 'Wand-Schichtvolumen an der Außenseite': 0.0, 'Wand-Schichtvolumen an der Innenseite': 0.0, 'Konditionales Schichtvolumen an der Außenseite': 0.0, 'Konditionales Wand-Schichtvolumen an der Innenseite': 0.0, 'Länge der Referenzlinie': 4.59, 'Abstand zu Ursprungsgeschoss': 0.0, 'Abstand Oberkante': 0.0, 'Durchschnittliche Länge': 4.17, 'Oberflächenbereich der Fenster in der Wand': 0.0, 'Oberflächenbereich der Türen in der Wand': 0.0, 'Oberflächenbereich der leeren Öffnungen in der Wand': 0.0, 'Volumen der Stützen': 0.0, 'id': 15229}}\n"
     ]
    }
   ],
   "source": [
    "import ifcopenshell.util\n",
    "import ifcopenshell.util.element\n",
    "print(ifcopenshell.util.element.get_psets(wall))"
   ]
  },
  {
   "cell_type": "code",
   "execution_count": 12,
   "metadata": {},
   "outputs": [
    {
     "name": "stdout",
     "output_type": "stream",
     "text": [
      "GUID: 2TSghi3E94BuNE_F6jBcWe, Type: IfcAnnotation, Name: None\n",
      "GUID: 0j7WClqLTB0gkHE605BLnY, Type: IfcAnnotation, Name: None\n",
      "GUID: 3BTqRqk7D5EhoEfLy$YPgs, Type: IfcAnnotation, Name: None\n",
      "GUID: 11pyNSTMP9zfUCy679gsvT, Type: IfcAnnotation, Name: None\n",
      "GUID: 3YZcx3Gb58SwNRLuheFOxL, Type: IfcAnnotation, Name: None\n",
      "GUID: 0dGzbiP6H1sPcT0NmqaFGO, Type: IfcAnnotation, Name: None\n",
      "GUID: 2Ml9lHXiTBN8zH$beU1ns5, Type: IfcAnnotation, Name: None\n",
      "GUID: 2HtybvLgf93veGIhadqbJ9, Type: IfcAnnotation, Name: None\n",
      "GUID: 1WAtLpg_nDBxKhzIXT_jnH, Type: IfcAnnotation, Name: None\n",
      "GUID: 1TKECZOIj9cBBj4ne6lhuA, Type: IfcAnnotation, Name: None\n",
      "GUID: 0CWpGkM7zEROS7WsgthNfA, Type: IfcAnnotation, Name: None\n",
      "GUID: 1fzvgX3pDB88Tz63VWPBLu, Type: IfcAnnotation, Name: None\n",
      "GUID: 2BEAsxujfCOxQo3wTVr7Wr, Type: IfcAnnotation, Name: None\n",
      "GUID: 0OL3LCjon8C8eMGVs718Tk, Type: IfcAnnotation, Name: None\n",
      "GUID: 3tCgZT92j6fw8fXgwCL3Jm, Type: IfcBeam, Name: Unterzug-1\n",
      "GUID: 0eaC0nL3XAOfFxRXK_2iAr, Type: IfcBeam, Name: Pfette-2-1\n",
      "GUID: 3jZHeNcfvDMf9wG$wx9XqG, Type: IfcBeam, Name: Pfette-1-1\n",
      "GUID: 20bTaetQDApP5w8egFxj13, Type: IfcBeam, Name: First\n",
      "GUID: 1Oms875aH3Wg$9l65H2ZGw, Type: IfcDoor, Name: Innentuer-1\n",
      "GUID: 0pGAjlJMP3ifYPATVF5xAR, Type: IfcDoor, Name: Innentuer-2\n",
      "GUID: 2qiPPF3FrF8OIqfrKiSUqm, Type: IfcDoor, Name: Innentuer-3\n",
      "GUID: 2jTRqchjf7oB0yhQ6462T0, Type: IfcDoor, Name: Haustuer\n",
      "GUID: 1M$gxUrX1Fiwe3P64ww7U5, Type: IfcDoor, Name: Terrassentuer\n",
      "GUID: 0oTQ6V1VbChulreA_hfmUa, Type: IfcMember, Name: Sparren-1\n",
      "GUID: 1tpUOcVEPCGgFqSz0VbniQ, Type: IfcMember, Name: Sparren-2\n",
      "GUID: 1ulHlNTuj798Os3k9phhVC, Type: IfcMember, Name: Sparren-3\n",
      "GUID: 1OckORehXEoB_KILQGJao5, Type: IfcMember, Name: Sparren-4\n",
      "GUID: 0nsN_jkIrBQBuGFMg_zMEg, Type: IfcMember, Name: Sparren-5\n",
      "GUID: 31Quw2HAvFqv$9_JgCuemp, Type: IfcMember, Name: Sparren-6\n",
      "GUID: 35W3cFc4L7MhJR0gIk9uis, Type: IfcMember, Name: Sparren-7\n",
      "GUID: 3F58AqxJfF$QkuoceQhWg3, Type: IfcMember, Name: Sparren-8\n",
      "GUID: 1nGDFBBHvBJ9NmlweQO0fX, Type: IfcMember, Name: Sparren-9\n",
      "GUID: 3qFc3Wrr9BBPJyb2wB$4Ra, Type: IfcMember, Name: Sparren-10\n",
      "GUID: 37ab3q_iz8XRterfnMKTQX, Type: IfcMember, Name: Sparren-11\n",
      "GUID: 3xdLwxTMD7bw4hWoOQL41M, Type: IfcMember, Name: Sparren-12\n",
      "GUID: 2OHMT7B69F5PRG_f3rMcjF, Type: IfcMember, Name: Sparren-13\n",
      "GUID: 34zPS2PUTBDOe7g7RIRXK0, Type: IfcMember, Name: Sparren-14\n",
      "GUID: 0VzptM87L6uOjQj08tTXIQ, Type: IfcMember, Name: Sparren-15\n",
      "GUID: 2CxE0$jXr8iOH1VC2gLCXX, Type: IfcMember, Name: Sparren-16\n",
      "GUID: 3sG$iUZAX499eUK87UfZk_, Type: IfcMember, Name: Sparren-17\n",
      "GUID: 0q1clcN4jF4gdikC9OySy7, Type: IfcMember, Name: Sparren-18\n",
      "GUID: 36KGWr2Rv8QuUhNnocm2nH, Type: IfcMember, Name: Sparren-19\n",
      "GUID: 0OKCG9uG53i9K16_x3YNfz, Type: IfcMember, Name: Sparren-20\n",
      "GUID: 3ePWkSzvLApwXTt3b0I2nV, Type: IfcMember, Name: Sparren-21\n",
      "GUID: 09OmJpUcj4WvNp2dXHFMWj, Type: IfcMember, Name: Sparren-22\n",
      "GUID: 3iSL8frGLDweFar9j4zgJ_, Type: IfcMember, Name: Sparren-23\n",
      "GUID: 23pmL_2aH88OVqWp_5Lfkf, Type: IfcMember, Name: Sparren-24\n",
      "GUID: 06JZMOVBX8VucSQwQ3o$8d, Type: IfcMember, Name: Sparren-25\n",
      "GUID: 31ry3UPYD7weLluBlhQxXZ, Type: IfcMember, Name: Sparren-26\n",
      "GUID: 20AsUDMgH0JwAitydKgsOm, Type: IfcMember, Name: Sparren-27\n",
      "GUID: 2SfSpj_pX9nvTeCOxeKqTd, Type: IfcMember, Name: Sparren-28\n",
      "GUID: 17MHCgVYn2YPLX56yXUJbL, Type: IfcMember, Name: Sparren-29\n",
      "GUID: 2XyYurmzzDOAIoZ52R97Jm, Type: IfcMember, Name: Sparren-30\n",
      "GUID: 0hRh9WB$jCLwlAiq3vfmg9, Type: IfcMember, Name: Sparren-31\n",
      "GUID: 1NBDw_i_jD$u7IjvwmbPmx, Type: IfcMember, Name: Sparren-32\n",
      "GUID: 2DH$OLoObDkAtwqVzNdUnS, Type: IfcMember, Name: Sparren-33\n",
      "GUID: 1qMEiq1Qz6guq8g1GCODiJ, Type: IfcMember, Name: Sparren-34\n",
      "GUID: 2AxITdtlD1h9Y3ye8U93bV, Type: IfcMember, Name: Sparren-35\n",
      "GUID: 0DTRkEz0r6gvzG6VdDr24n, Type: IfcMember, Name: Sparren-36\n",
      "GUID: 3UTqpydzf7i8J6iMY2tHil, Type: IfcMember, Name: Sparren-37\n",
      "GUID: 3CS1rsE3bB7vMHAdjyaamh, Type: IfcMember, Name: Sparren-38\n",
      "GUID: 2jBFZiQw110vV7XY77KKfx, Type: IfcMember, Name: Sparren-39\n",
      "GUID: 22oN_bO9T4jO5eG4GKW7be, Type: IfcMember, Name: Sparren-40\n",
      "GUID: 2in0QvfYXEawl1f3MP1bq2, Type: IfcMember, Name: Sparren-41\n",
      "GUID: 3EgsECVVb6zQXnK3YFcWAu, Type: IfcMember, Name: Sparren-42\n",
      "GUID: 0o5vgCKyTBzO5$QJcI2YDP, Type: IfcRailing, Name: \n",
      "GUID: 09axaKU7X1_O8n6dmmiZ1E, Type: IfcRailing, Name: \n",
      "GUID: 1pPHnf7cXCpPsNEnQf8_6B, Type: IfcSlab, Name: Bodenplatte\n",
      "GUID: 2RGlQk4xH47RHK93zcTzUL, Type: IfcSlab, Name: Slab-033\n",
      "GUID: 07Enbsqm9C7AQC9iyBwfSD, Type: IfcSlab, Name: Dach-1\n",
      "GUID: 2IxUUNUVPB6Ob$eicCfP2N, Type: IfcSlab, Name: Dach-2\n",
      "GUID: 38a9vdh9bF5Qg28GWyHhlr, Type: IfcStair, Name: Wendeltreppe\n",
      "GUID: 2XPyKWY018sA1ygZKgQPtU, Type: IfcWallStandardCase, Name: Wand-Int-ERDG-4\n",
      "GUID: 3PfS__Y_DBAfq5naM6zD2Z, Type: IfcWallStandardCase, Name: Wand-Int-ERDG-2\n",
      "GUID: 2ptk1k7qn8_Qk22vjh$0DE, Type: IfcWallStandardCase, Name: Wand-Int-ERDG-1\n",
      "GUID: 3jjW3rL656ex34Gws22EfM, Type: IfcWallStandardCase, Name: Wand-Int-ERDG-3\n",
      "GUID: 1$wmdwWPjDYuku_ghVkynE, Type: IfcWallStandardCase, Name: Wand-Int-ERDG-5\n",
      "GUID: 3rPX_Juz59peXXY6wDJl18, Type: IfcWallStandardCase, Name: Wand-Ext-ERDG-1\n",
      "GUID: 16DNNqzfP2thtfaOflvsKA, Type: IfcWallStandardCase, Name: Wand-Ext-ERDG-4\n",
      "GUID: 25fsbPyk15VvuXI$yNKenK, Type: IfcWallStandardCase, Name: Wand-Ext-ERDG-3\n",
      "GUID: 1bzfVsJqn8De5PukCrqylz, Type: IfcWallStandardCase, Name: Wand-Ext-ERDG-2\n",
      "GUID: 0knNIAVBPBFvBy_m5QVHsU, Type: IfcWallStandardCase, Name: Wand-Ext-OG-1\n",
      "GUID: 25OWQvmXj5BPgyergP43tY, Type: IfcWallStandardCase, Name: Wand-Ext-OG-2\n",
      "GUID: 3VCarUKgH1buLo22Ozxe6J, Type: IfcWallStandardCase, Name: Wand-Ext-OG-3\n",
      "GUID: 3Ttjr$59XEWfWN1WUHjelZ, Type: IfcWallStandardCase, Name: Wand-Ext-OG-4\n",
      "GUID: 1srAI$R4T8ihLXSNHmUSET, Type: IfcWindow, Name: EG-Fenster-6\n",
      "GUID: 0B1RwEzzP3CfME5NR$Vqh5, Type: IfcWindow, Name: EG-Fenster-7\n",
      "GUID: 25nJxEpYf8LRDJNkMUVO0m, Type: IfcWindow, Name: EG-Fenster-4\n",
      "GUID: 3BFcylCsX74PQAoRAe5fNv, Type: IfcWindow, Name: EG-Fenster-5\n",
      "GUID: 13aSY79zb8fP4HApEJ0z_e, Type: IfcWindow, Name: EG-Fenster-8\n",
      "GUID: 2EQh_jhP1B_A_AMuSJc5E0, Type: IfcWindow, Name: EG-Fenster-9\n",
      "GUID: 1TAI4ouKX4Xx4lBDZIu5qM, Type: IfcWindow, Name: EG-Fenster-1\n",
      "GUID: 2Q9w7oRXP249jBobEMVqlZ, Type: IfcWindow, Name: EG-Fenster-2\n",
      "GUID: 1DiYqhfzH9xxuJdVHwXCNa, Type: IfcWindow, Name: EG-Fenster-3\n",
      "GUID: 1zOBw0Gej5Wf0QAJfHnOc0, Type: IfcWindow, Name: OG-Fenster-2\n",
      "GUID: 2ACmFFQhT1Ouf0x4YRUh9m, Type: IfcWindow, Name: OG-Fenster-1\n",
      "GUID: 0LM8GvGe$G3dlW4mZ4aA9R, Type: IfcOpeningElement, Name: Innentuer-1\n",
      "GUID: 253rr8ORNAORFOx911Dvez, Type: IfcOpeningElement, Name: Innentuer-2\n",
      "GUID: 2lV07gym5YkPLv5gWQeAr4, Type: IfcOpeningElement, Name: Innentuer-3\n",
      "GUID: 0seqbT9MlcQAX_K0YLzD86, Type: IfcOpeningElement, Name: EG-Fenster-6\n",
      "GUID: 2NE9qKcWUF2uoVhRSqTd_a, Type: IfcOpeningElement, Name: EG-Fenster-7\n",
      "GUID: 04RcXu1mKxpGnJw_7oRBLn, Type: IfcOpeningElement, Name: Haustuer\n",
      "GUID: 1c0Yk5iLrVR4e3y5gEUEKa, Type: IfcOpeningElement, Name: EG-Fenster-4\n",
      "GUID: 2uYaWLoMXGPW4zZLca_BWr, Type: IfcOpeningElement, Name: EG-Fenster-5\n",
      "GUID: 1r_KIZSL381KWyrYQXOn52, Type: IfcOpeningElement, Name: Terrassentuer\n",
      "GUID: 2OW0PH61vS77xxyX1o74u8, Type: IfcOpeningElement, Name: EG-Fenster-8\n",
      "GUID: 2cFXkmvNz6q8TXoCpAWu5Y, Type: IfcOpeningElement, Name: EG-Fenster-9\n",
      "GUID: 1edW1mWMGQA1AyF6LZE0rZ, Type: IfcOpeningElement, Name: EG-Fenster-1\n",
      "GUID: 0B6UMAQb_hdSR0n26dQbUu, Type: IfcOpeningElement, Name: EG-Fenster-2\n",
      "GUID: 2o6xwVLCqc7RJXOAHbb1iq, Type: IfcOpeningElement, Name: EG-Fenster-3\n",
      "GUID: 16PF6khT5_p$Z03P73inyv, Type: IfcOpeningElement, Name: Slab Opening\n",
      "GUID: 02A6FCU4lrAZ0mm$uvcVpb, Type: IfcOpeningElement, Name: OG-Fenster-2\n",
      "GUID: 0e2iWM3ICUNVYAkmP5YImx, Type: IfcOpeningElement, Name: OG-Fenster-1\n",
      "GUID: 2O1epMSyD6ol5XOFRviRIZ, Type: IfcVirtualElement, Name: None\n",
      "GUID: 0wuj6ac_Rv$ZYWzILFrlw0, Type: IfcVirtualElement, Name: None\n",
      "GUID: 3x5bWRj6N6PhHPHxSQnO1r, Type: IfcVirtualElement, Name: None\n",
      "GUID: 2hQBAVPOr5VxhS3Jl0O47h, Type: IfcBuilding, Name: FZK-Haus\n",
      "GUID: 2eyxpyOx95m90jmsXLOuR0, Type: IfcBuildingStorey, Name: Erdgeschoss\n",
      "GUID: 273g3wqLzDtfYIl7qqkgcO, Type: IfcBuildingStorey, Name: Dachgeschoss\n",
      "GUID: 0KMpiAlnb52RgQuM1CwVfd, Type: IfcSite, Name: Gelaende\n",
      "GUID: 347jFE2yX7IhCEIALmupEH, Type: IfcSpace, Name: 4\n",
      "GUID: 0e_hbkIQ5DMQlIJ$2V3j_m, Type: IfcSpace, Name: 3\n",
      "GUID: 2RSCzLOBz4FAK$_wE8VckM, Type: IfcSpace, Name: 2\n",
      "GUID: 0Lt8gR_E9ESeGH5uY_g9e9, Type: IfcSpace, Name: 5\n",
      "GUID: 3$f2p7VyLB7eox67SA_zKE, Type: IfcSpace, Name: 1\n",
      "GUID: 17JZcMFrf5tOftUTidA0d3, Type: IfcSpace, Name: 6\n",
      "GUID: 2dQFggKBb1fOc1CqZDIDlx, Type: IfcSpace, Name: 7\n"
     ]
    }
   ],
   "source": [
    "import ifcopenshell\n",
    "\n",
    "# Get all the products from the model\n",
    "products = model.by_type(\"IfcProduct\")\n",
    "\n",
    "# Print all the products\n",
    "for product in products:\n",
    "    print(f\"GUID: {product.GlobalId}, Type: {product.is_a()}, Name: {getattr(product, 'Name', 'No name')}\")"
   ]
  },
  {
   "cell_type": "code",
   "execution_count": 15,
   "metadata": {},
   "outputs": [
    {
     "name": "stdout",
     "output_type": "stream",
     "text": [
      "GUID: 2TSghi3E94BuNE_F6jBcWe, Type: IfcAnnotation, Name: None\n",
      "GUID: 0j7WClqLTB0gkHE605BLnY, Type: IfcAnnotation, Name: None\n",
      "GUID: 3BTqRqk7D5EhoEfLy$YPgs, Type: IfcAnnotation, Name: None\n",
      "GUID: 11pyNSTMP9zfUCy679gsvT, Type: IfcAnnotation, Name: None\n",
      "GUID: 3YZcx3Gb58SwNRLuheFOxL, Type: IfcAnnotation, Name: None\n",
      "GUID: 0dGzbiP6H1sPcT0NmqaFGO, Type: IfcAnnotation, Name: None\n",
      "GUID: 2Ml9lHXiTBN8zH$beU1ns5, Type: IfcAnnotation, Name: None\n",
      "GUID: 2HtybvLgf93veGIhadqbJ9, Type: IfcAnnotation, Name: None\n",
      "GUID: 1WAtLpg_nDBxKhzIXT_jnH, Type: IfcAnnotation, Name: None\n",
      "GUID: 1TKECZOIj9cBBj4ne6lhuA, Type: IfcAnnotation, Name: None\n",
      "GUID: 0CWpGkM7zEROS7WsgthNfA, Type: IfcAnnotation, Name: None\n",
      "GUID: 1fzvgX3pDB88Tz63VWPBLu, Type: IfcAnnotation, Name: None\n",
      "GUID: 2BEAsxujfCOxQo3wTVr7Wr, Type: IfcAnnotation, Name: None\n",
      "GUID: 0OL3LCjon8C8eMGVs718Tk, Type: IfcAnnotation, Name: None\n",
      "GUID: 3tCgZT92j6fw8fXgwCL3Jm, Type: IfcBeam, Name: Unterzug-1\n",
      "GUID: 0eaC0nL3XAOfFxRXK_2iAr, Type: IfcBeam, Name: Pfette-2-1\n",
      "GUID: 3jZHeNcfvDMf9wG$wx9XqG, Type: IfcBeam, Name: Pfette-1-1\n",
      "GUID: 20bTaetQDApP5w8egFxj13, Type: IfcBeam, Name: First\n",
      "GUID: 1Oms875aH3Wg$9l65H2ZGw, Type: IfcDoor, Name: Innentuer-1\n",
      "GUID: 0pGAjlJMP3ifYPATVF5xAR, Type: IfcDoor, Name: Innentuer-2\n",
      "GUID: 2qiPPF3FrF8OIqfrKiSUqm, Type: IfcDoor, Name: Innentuer-3\n",
      "GUID: 2jTRqchjf7oB0yhQ6462T0, Type: IfcDoor, Name: Haustuer\n",
      "GUID: 1M$gxUrX1Fiwe3P64ww7U5, Type: IfcDoor, Name: Terrassentuer\n",
      "GUID: 0oTQ6V1VbChulreA_hfmUa, Type: IfcMember, Name: Sparren-1\n",
      "GUID: 1tpUOcVEPCGgFqSz0VbniQ, Type: IfcMember, Name: Sparren-2\n",
      "GUID: 1ulHlNTuj798Os3k9phhVC, Type: IfcMember, Name: Sparren-3\n",
      "GUID: 1OckORehXEoB_KILQGJao5, Type: IfcMember, Name: Sparren-4\n",
      "GUID: 0nsN_jkIrBQBuGFMg_zMEg, Type: IfcMember, Name: Sparren-5\n",
      "GUID: 31Quw2HAvFqv$9_JgCuemp, Type: IfcMember, Name: Sparren-6\n",
      "GUID: 35W3cFc4L7MhJR0gIk9uis, Type: IfcMember, Name: Sparren-7\n",
      "GUID: 3F58AqxJfF$QkuoceQhWg3, Type: IfcMember, Name: Sparren-8\n",
      "GUID: 1nGDFBBHvBJ9NmlweQO0fX, Type: IfcMember, Name: Sparren-9\n",
      "GUID: 3qFc3Wrr9BBPJyb2wB$4Ra, Type: IfcMember, Name: Sparren-10\n",
      "GUID: 37ab3q_iz8XRterfnMKTQX, Type: IfcMember, Name: Sparren-11\n",
      "GUID: 3xdLwxTMD7bw4hWoOQL41M, Type: IfcMember, Name: Sparren-12\n",
      "GUID: 2OHMT7B69F5PRG_f3rMcjF, Type: IfcMember, Name: Sparren-13\n",
      "GUID: 34zPS2PUTBDOe7g7RIRXK0, Type: IfcMember, Name: Sparren-14\n",
      "GUID: 0VzptM87L6uOjQj08tTXIQ, Type: IfcMember, Name: Sparren-15\n",
      "GUID: 2CxE0$jXr8iOH1VC2gLCXX, Type: IfcMember, Name: Sparren-16\n",
      "GUID: 3sG$iUZAX499eUK87UfZk_, Type: IfcMember, Name: Sparren-17\n",
      "GUID: 0q1clcN4jF4gdikC9OySy7, Type: IfcMember, Name: Sparren-18\n",
      "GUID: 36KGWr2Rv8QuUhNnocm2nH, Type: IfcMember, Name: Sparren-19\n",
      "GUID: 0OKCG9uG53i9K16_x3YNfz, Type: IfcMember, Name: Sparren-20\n",
      "GUID: 3ePWkSzvLApwXTt3b0I2nV, Type: IfcMember, Name: Sparren-21\n",
      "GUID: 09OmJpUcj4WvNp2dXHFMWj, Type: IfcMember, Name: Sparren-22\n",
      "GUID: 3iSL8frGLDweFar9j4zgJ_, Type: IfcMember, Name: Sparren-23\n",
      "GUID: 23pmL_2aH88OVqWp_5Lfkf, Type: IfcMember, Name: Sparren-24\n",
      "GUID: 06JZMOVBX8VucSQwQ3o$8d, Type: IfcMember, Name: Sparren-25\n",
      "GUID: 31ry3UPYD7weLluBlhQxXZ, Type: IfcMember, Name: Sparren-26\n",
      "GUID: 20AsUDMgH0JwAitydKgsOm, Type: IfcMember, Name: Sparren-27\n",
      "GUID: 2SfSpj_pX9nvTeCOxeKqTd, Type: IfcMember, Name: Sparren-28\n",
      "GUID: 17MHCgVYn2YPLX56yXUJbL, Type: IfcMember, Name: Sparren-29\n",
      "GUID: 2XyYurmzzDOAIoZ52R97Jm, Type: IfcMember, Name: Sparren-30\n",
      "GUID: 0hRh9WB$jCLwlAiq3vfmg9, Type: IfcMember, Name: Sparren-31\n",
      "GUID: 1NBDw_i_jD$u7IjvwmbPmx, Type: IfcMember, Name: Sparren-32\n",
      "GUID: 2DH$OLoObDkAtwqVzNdUnS, Type: IfcMember, Name: Sparren-33\n",
      "GUID: 1qMEiq1Qz6guq8g1GCODiJ, Type: IfcMember, Name: Sparren-34\n",
      "GUID: 2AxITdtlD1h9Y3ye8U93bV, Type: IfcMember, Name: Sparren-35\n",
      "GUID: 0DTRkEz0r6gvzG6VdDr24n, Type: IfcMember, Name: Sparren-36\n",
      "GUID: 3UTqpydzf7i8J6iMY2tHil, Type: IfcMember, Name: Sparren-37\n",
      "GUID: 3CS1rsE3bB7vMHAdjyaamh, Type: IfcMember, Name: Sparren-38\n",
      "GUID: 2jBFZiQw110vV7XY77KKfx, Type: IfcMember, Name: Sparren-39\n",
      "GUID: 22oN_bO9T4jO5eG4GKW7be, Type: IfcMember, Name: Sparren-40\n",
      "GUID: 2in0QvfYXEawl1f3MP1bq2, Type: IfcMember, Name: Sparren-41\n",
      "GUID: 3EgsECVVb6zQXnK3YFcWAu, Type: IfcMember, Name: Sparren-42\n",
      "GUID: 0o5vgCKyTBzO5$QJcI2YDP, Type: IfcRailing, Name: \n",
      "GUID: 09axaKU7X1_O8n6dmmiZ1E, Type: IfcRailing, Name: \n",
      "GUID: 1pPHnf7cXCpPsNEnQf8_6B, Type: IfcSlab, Name: Bodenplatte\n",
      "GUID: 2RGlQk4xH47RHK93zcTzUL, Type: IfcSlab, Name: Slab-033\n",
      "GUID: 07Enbsqm9C7AQC9iyBwfSD, Type: IfcSlab, Name: Dach-1\n",
      "GUID: 2IxUUNUVPB6Ob$eicCfP2N, Type: IfcSlab, Name: Dach-2\n",
      "GUID: 38a9vdh9bF5Qg28GWyHhlr, Type: IfcStair, Name: Wendeltreppe\n",
      "GUID: 2XPyKWY018sA1ygZKgQPtU, Type: IfcWallStandardCase, Name: Wand-Int-ERDG-4\n",
      "GUID: 3PfS__Y_DBAfq5naM6zD2Z, Type: IfcWallStandardCase, Name: Wand-Int-ERDG-2\n",
      "GUID: 2ptk1k7qn8_Qk22vjh$0DE, Type: IfcWallStandardCase, Name: Wand-Int-ERDG-1\n",
      "GUID: 3jjW3rL656ex34Gws22EfM, Type: IfcWallStandardCase, Name: Wand-Int-ERDG-3\n",
      "GUID: 1$wmdwWPjDYuku_ghVkynE, Type: IfcWallStandardCase, Name: Wand-Int-ERDG-5\n",
      "GUID: 3rPX_Juz59peXXY6wDJl18, Type: IfcWallStandardCase, Name: Wand-Ext-ERDG-1\n",
      "GUID: 16DNNqzfP2thtfaOflvsKA, Type: IfcWallStandardCase, Name: Wand-Ext-ERDG-4\n",
      "GUID: 25fsbPyk15VvuXI$yNKenK, Type: IfcWallStandardCase, Name: Wand-Ext-ERDG-3\n",
      "GUID: 1bzfVsJqn8De5PukCrqylz, Type: IfcWallStandardCase, Name: Wand-Ext-ERDG-2\n",
      "GUID: 0knNIAVBPBFvBy_m5QVHsU, Type: IfcWallStandardCase, Name: Wand-Ext-OG-1\n",
      "GUID: 25OWQvmXj5BPgyergP43tY, Type: IfcWallStandardCase, Name: Wand-Ext-OG-2\n",
      "GUID: 3VCarUKgH1buLo22Ozxe6J, Type: IfcWallStandardCase, Name: Wand-Ext-OG-3\n",
      "GUID: 3Ttjr$59XEWfWN1WUHjelZ, Type: IfcWallStandardCase, Name: Wand-Ext-OG-4\n",
      "GUID: 1srAI$R4T8ihLXSNHmUSET, Type: IfcWindow, Name: EG-Fenster-6\n",
      "GUID: 0B1RwEzzP3CfME5NR$Vqh5, Type: IfcWindow, Name: EG-Fenster-7\n",
      "GUID: 25nJxEpYf8LRDJNkMUVO0m, Type: IfcWindow, Name: EG-Fenster-4\n",
      "GUID: 3BFcylCsX74PQAoRAe5fNv, Type: IfcWindow, Name: EG-Fenster-5\n",
      "GUID: 13aSY79zb8fP4HApEJ0z_e, Type: IfcWindow, Name: EG-Fenster-8\n",
      "GUID: 2EQh_jhP1B_A_AMuSJc5E0, Type: IfcWindow, Name: EG-Fenster-9\n",
      "GUID: 1TAI4ouKX4Xx4lBDZIu5qM, Type: IfcWindow, Name: EG-Fenster-1\n",
      "GUID: 2Q9w7oRXP249jBobEMVqlZ, Type: IfcWindow, Name: EG-Fenster-2\n",
      "GUID: 1DiYqhfzH9xxuJdVHwXCNa, Type: IfcWindow, Name: EG-Fenster-3\n",
      "GUID: 1zOBw0Gej5Wf0QAJfHnOc0, Type: IfcWindow, Name: OG-Fenster-2\n",
      "GUID: 2ACmFFQhT1Ouf0x4YRUh9m, Type: IfcWindow, Name: OG-Fenster-1\n",
      "GUID: 0LM8GvGe$G3dlW4mZ4aA9R, Type: IfcOpeningElement, Name: Innentuer-1\n",
      "GUID: 253rr8ORNAORFOx911Dvez, Type: IfcOpeningElement, Name: Innentuer-2\n",
      "GUID: 2lV07gym5YkPLv5gWQeAr4, Type: IfcOpeningElement, Name: Innentuer-3\n",
      "GUID: 0seqbT9MlcQAX_K0YLzD86, Type: IfcOpeningElement, Name: EG-Fenster-6\n",
      "GUID: 2NE9qKcWUF2uoVhRSqTd_a, Type: IfcOpeningElement, Name: EG-Fenster-7\n",
      "GUID: 04RcXu1mKxpGnJw_7oRBLn, Type: IfcOpeningElement, Name: Haustuer\n",
      "GUID: 1c0Yk5iLrVR4e3y5gEUEKa, Type: IfcOpeningElement, Name: EG-Fenster-4\n",
      "GUID: 2uYaWLoMXGPW4zZLca_BWr, Type: IfcOpeningElement, Name: EG-Fenster-5\n",
      "GUID: 1r_KIZSL381KWyrYQXOn52, Type: IfcOpeningElement, Name: Terrassentuer\n",
      "GUID: 2OW0PH61vS77xxyX1o74u8, Type: IfcOpeningElement, Name: EG-Fenster-8\n",
      "GUID: 2cFXkmvNz6q8TXoCpAWu5Y, Type: IfcOpeningElement, Name: EG-Fenster-9\n",
      "GUID: 1edW1mWMGQA1AyF6LZE0rZ, Type: IfcOpeningElement, Name: EG-Fenster-1\n",
      "GUID: 0B6UMAQb_hdSR0n26dQbUu, Type: IfcOpeningElement, Name: EG-Fenster-2\n",
      "GUID: 2o6xwVLCqc7RJXOAHbb1iq, Type: IfcOpeningElement, Name: EG-Fenster-3\n",
      "GUID: 16PF6khT5_p$Z03P73inyv, Type: IfcOpeningElement, Name: Slab Opening\n",
      "GUID: 02A6FCU4lrAZ0mm$uvcVpb, Type: IfcOpeningElement, Name: OG-Fenster-2\n",
      "GUID: 0e2iWM3ICUNVYAkmP5YImx, Type: IfcOpeningElement, Name: OG-Fenster-1\n",
      "GUID: 2O1epMSyD6ol5XOFRviRIZ, Type: IfcVirtualElement, Name: None\n",
      "GUID: 0wuj6ac_Rv$ZYWzILFrlw0, Type: IfcVirtualElement, Name: None\n",
      "GUID: 3x5bWRj6N6PhHPHxSQnO1r, Type: IfcVirtualElement, Name: None\n",
      "GUID: 2hQBAVPOr5VxhS3Jl0O47h, Type: IfcBuilding, Name: FZK-Haus\n",
      "GUID: 2eyxpyOx95m90jmsXLOuR0, Type: IfcBuildingStorey, Name: Erdgeschoss\n",
      "GUID: 273g3wqLzDtfYIl7qqkgcO, Type: IfcBuildingStorey, Name: Dachgeschoss\n",
      "GUID: 0KMpiAlnb52RgQuM1CwVfd, Type: IfcSite, Name: Gelaende\n",
      "GUID: 347jFE2yX7IhCEIALmupEH, Type: IfcSpace, Name: 4\n",
      "GUID: 0e_hbkIQ5DMQlIJ$2V3j_m, Type: IfcSpace, Name: 3\n",
      "GUID: 2RSCzLOBz4FAK$_wE8VckM, Type: IfcSpace, Name: 2\n",
      "GUID: 0Lt8gR_E9ESeGH5uY_g9e9, Type: IfcSpace, Name: 5\n",
      "GUID: 3$f2p7VyLB7eox67SA_zKE, Type: IfcSpace, Name: 1\n",
      "GUID: 17JZcMFrf5tOftUTidA0d3, Type: IfcSpace, Name: 6\n",
      "GUID: 2dQFggKBb1fOc1CqZDIDlx, Type: IfcSpace, Name: 7\n"
     ]
    }
   ],
   "source": [
    "import ifcopenshell\n",
    "\n",
    "# Obtener todos los productos del modelo\n",
    "products = model.by_type(\"IfcProduct\")\n",
    "\n",
    "# Imprimir los productos encontrados\n",
    "for product in products:\n",
    "    print(f\"GUID: {product.GlobalId}, Type: {product.is_a()}, Name: {getattr(product, 'Name', 'No name')}\")"
   ]
  },
  {
   "cell_type": "code",
   "execution_count": 13,
   "metadata": {},
   "outputs": [],
   "source": [
    "psets_by_product = []\n",
    "\n",
    "for product in products:\n",
    "    product_name = product.Name\n",
    "    product_type = product.is_a()\n",
    "    product_Guid = product.GlobalId\n",
    "    \n",
    "    psets = ifcopenshell.util.element.get_psets(product)\n",
    "    for pset_name, pset_data in psets.items():\n",
    "        for key, value in pset_data.items():\n",
    "            psets_by_product.append(\n",
    "                {\"Guid\": product_Guid, \"IfcEntities\": product_type,\n",
    "                    \"Name\": product_name, \"Pset\": pset_name, \n",
    "                    \"IfcProperties\": key, \"Value\": value})\n",
    "\n",
    "    df = pd.DataFrame(psets_by_product)"
   ]
  },
  {
   "cell_type": "code",
   "execution_count": 18,
   "metadata": {},
   "outputs": [
    {
     "data": {
      "text/html": [
       "<div>\n",
       "<style scoped>\n",
       "    .dataframe tbody tr th:only-of-type {\n",
       "        vertical-align: middle;\n",
       "    }\n",
       "\n",
       "    .dataframe tbody tr th {\n",
       "        vertical-align: top;\n",
       "    }\n",
       "\n",
       "    .dataframe thead th {\n",
       "        text-align: right;\n",
       "    }\n",
       "</style>\n",
       "<table border=\"1\" class=\"dataframe\">\n",
       "  <thead>\n",
       "    <tr style=\"text-align: right;\">\n",
       "      <th></th>\n",
       "      <th>Guid</th>\n",
       "      <th>IfcEntities</th>\n",
       "      <th>Name</th>\n",
       "      <th>Pset</th>\n",
       "      <th>IfcProperties</th>\n",
       "      <th>Value</th>\n",
       "    </tr>\n",
       "  </thead>\n",
       "  <tbody>\n",
       "    <tr>\n",
       "      <th>0</th>\n",
       "      <td>3tCgZT92j6fw8fXgwCL3Jm</td>\n",
       "      <td>IfcBeam</td>\n",
       "      <td>Unterzug-1</td>\n",
       "      <td>Pset_BeamCommon</td>\n",
       "      <td>Slope</td>\n",
       "      <td>0.0</td>\n",
       "    </tr>\n",
       "    <tr>\n",
       "      <th>1</th>\n",
       "      <td>3tCgZT92j6fw8fXgwCL3Jm</td>\n",
       "      <td>IfcBeam</td>\n",
       "      <td>Unterzug-1</td>\n",
       "      <td>Pset_BeamCommon</td>\n",
       "      <td>Reference</td>\n",
       "      <td>Radial Gradient Fill 1515460218 200 x 240</td>\n",
       "    </tr>\n",
       "    <tr>\n",
       "      <th>2</th>\n",
       "      <td>3tCgZT92j6fw8fXgwCL3Jm</td>\n",
       "      <td>IfcBeam</td>\n",
       "      <td>Unterzug-1</td>\n",
       "      <td>Pset_BeamCommon</td>\n",
       "      <td>id</td>\n",
       "      <td>20405</td>\n",
       "    </tr>\n",
       "    <tr>\n",
       "      <th>3</th>\n",
       "      <td>3tCgZT92j6fw8fXgwCL3Jm</td>\n",
       "      <td>IfcBeam</td>\n",
       "      <td>Unterzug-1</td>\n",
       "      <td>AC_Pset_Name</td>\n",
       "      <td>Name</td>\n",
       "      <td>Unterzug-1</td>\n",
       "    </tr>\n",
       "    <tr>\n",
       "      <th>4</th>\n",
       "      <td>3tCgZT92j6fw8fXgwCL3Jm</td>\n",
       "      <td>IfcBeam</td>\n",
       "      <td>Unterzug-1</td>\n",
       "      <td>AC_Pset_Name</td>\n",
       "      <td>id</td>\n",
       "      <td>20414</td>\n",
       "    </tr>\n",
       "    <tr>\n",
       "      <th>...</th>\n",
       "      <td>...</td>\n",
       "      <td>...</td>\n",
       "      <td>...</td>\n",
       "      <td>...</td>\n",
       "      <td>...</td>\n",
       "      <td>...</td>\n",
       "    </tr>\n",
       "    <tr>\n",
       "      <th>8375</th>\n",
       "      <td>2dQFggKBb1fOc1CqZDIDlx</td>\n",
       "      <td>IfcSpace</td>\n",
       "      <td>7</td>\n",
       "      <td>AC_Equantity_Allgemeiner_Raumstempel</td>\n",
       "      <td>Höhenkote OK Rohdecke</td>\n",
       "      <td>0.0</td>\n",
       "    </tr>\n",
       "    <tr>\n",
       "      <th>8376</th>\n",
       "      <td>2dQFggKBb1fOc1CqZDIDlx</td>\n",
       "      <td>IfcSpace</td>\n",
       "      <td>7</td>\n",
       "      <td>AC_Equantity_Allgemeiner_Raumstempel</td>\n",
       "      <td>Dicke Bodenaufbau</td>\n",
       "      <td>0.0</td>\n",
       "    </tr>\n",
       "    <tr>\n",
       "      <th>8377</th>\n",
       "      <td>2dQFggKBb1fOc1CqZDIDlx</td>\n",
       "      <td>IfcSpace</td>\n",
       "      <td>7</td>\n",
       "      <td>AC_Equantity_Allgemeiner_Raumstempel</td>\n",
       "      <td>Raumhöhe</td>\n",
       "      <td>4.0</td>\n",
       "    </tr>\n",
       "    <tr>\n",
       "      <th>8378</th>\n",
       "      <td>2dQFggKBb1fOc1CqZDIDlx</td>\n",
       "      <td>IfcSpace</td>\n",
       "      <td>7</td>\n",
       "      <td>AC_Equantity_Allgemeiner_Raumstempel</td>\n",
       "      <td>Nettoumfang</td>\n",
       "      <td>41.6</td>\n",
       "    </tr>\n",
       "    <tr>\n",
       "      <th>8379</th>\n",
       "      <td>2dQFggKBb1fOc1CqZDIDlx</td>\n",
       "      <td>IfcSpace</td>\n",
       "      <td>7</td>\n",
       "      <td>AC_Equantity_Allgemeiner_Raumstempel</td>\n",
       "      <td>id</td>\n",
       "      <td>76463</td>\n",
       "    </tr>\n",
       "  </tbody>\n",
       "</table>\n",
       "<p>8380 rows × 6 columns</p>\n",
       "</div>"
      ],
      "text/plain": [
       "                        Guid IfcEntities        Name  \\\n",
       "0     3tCgZT92j6fw8fXgwCL3Jm     IfcBeam  Unterzug-1   \n",
       "1     3tCgZT92j6fw8fXgwCL3Jm     IfcBeam  Unterzug-1   \n",
       "2     3tCgZT92j6fw8fXgwCL3Jm     IfcBeam  Unterzug-1   \n",
       "3     3tCgZT92j6fw8fXgwCL3Jm     IfcBeam  Unterzug-1   \n",
       "4     3tCgZT92j6fw8fXgwCL3Jm     IfcBeam  Unterzug-1   \n",
       "...                      ...         ...         ...   \n",
       "8375  2dQFggKBb1fOc1CqZDIDlx    IfcSpace           7   \n",
       "8376  2dQFggKBb1fOc1CqZDIDlx    IfcSpace           7   \n",
       "8377  2dQFggKBb1fOc1CqZDIDlx    IfcSpace           7   \n",
       "8378  2dQFggKBb1fOc1CqZDIDlx    IfcSpace           7   \n",
       "8379  2dQFggKBb1fOc1CqZDIDlx    IfcSpace           7   \n",
       "\n",
       "                                      Pset          IfcProperties  \\\n",
       "0                          Pset_BeamCommon                  Slope   \n",
       "1                          Pset_BeamCommon              Reference   \n",
       "2                          Pset_BeamCommon                     id   \n",
       "3                             AC_Pset_Name                   Name   \n",
       "4                             AC_Pset_Name                     id   \n",
       "...                                    ...                    ...   \n",
       "8375  AC_Equantity_Allgemeiner_Raumstempel  Höhenkote OK Rohdecke   \n",
       "8376  AC_Equantity_Allgemeiner_Raumstempel      Dicke Bodenaufbau   \n",
       "8377  AC_Equantity_Allgemeiner_Raumstempel               Raumhöhe   \n",
       "8378  AC_Equantity_Allgemeiner_Raumstempel            Nettoumfang   \n",
       "8379  AC_Equantity_Allgemeiner_Raumstempel                     id   \n",
       "\n",
       "                                          Value  \n",
       "0                                           0.0  \n",
       "1     Radial Gradient Fill 1515460218 200 x 240  \n",
       "2                                         20405  \n",
       "3                                    Unterzug-1  \n",
       "4                                         20414  \n",
       "...                                         ...  \n",
       "8375                                        0.0  \n",
       "8376                                        0.0  \n",
       "8377                                        4.0  \n",
       "8378                                       41.6  \n",
       "8379                                      76463  \n",
       "\n",
       "[8380 rows x 6 columns]"
      ]
     },
     "execution_count": 18,
     "metadata": {},
     "output_type": "execute_result"
    }
   ],
   "source": [
    "df"
   ]
  },
  {
   "cell_type": "code",
   "execution_count": 17,
   "metadata": {},
   "outputs": [],
   "source": [
    "datadict = {\n",
    "    \"A\": [\"Height\", \"NominalHeight\", \"DeliveryType\", \"FinishCeilingHeight\", \"BuildingHeightLimit\", \"WaterConsumption\", \n",
    "        \"Eutrophication\", \"NonRenewableEnergyConsumption\", \"RenewableEnergyConsumption\", \"TotalPrimaryEnergyConsumption\", \n",
    "        \"ClimateChange\", \"StratosphericOzoneLayerDestruction\", \"AtmosphericAcificiation\", \"InertWaste\", \"HazardousWaste\", \n",
    "        \"RadioactiveWaste\", \"AssessmentDescription\", \"BatchReference\", \"WarrantyDurationParts\", \"WarrantyStartDate\", \n",
    "        \"InstallationDate\", \"AcquisitionDate\", \"ServiceLifeDuration\", \"SoundCurve\", \"Shape\", \"LifeCyclePhase\", \n",
    "        \"AssetType\", \"GlobalTradeItemNumber\", \"NominalWidth\", \"ProductionYear\", \"ModelReference\", \"BarCode\", \"Color\", \n",
    "        \"PointOfContact\", \"Manufacturer\", \"AssemblyPlace\", \"AssessmentCondition\", \"Status\", \"ReplacementCost\", \n",
    "        \"NominalLength\", \"Material\", \"ArticleNumber\", \"ModelLabel\", \"SerialNumber\", \"GrossWeight\", \"Size\", \n",
    "        \"TotalRadiantLoad\", \"IsExternal\", \"NumberOfTreads\", \"WaterStorageCapacity\", \"LoadBearingCapacity\", \n",
    "        \"CapacityPeople\", \"FireRating\", \"c\", \"d\", \"e\", \"l\", \"n\", \"s\", \"z\", \"a\", \"BEP\", \"Span\", \"NosingLength\", \n",
    "        \"TreadLength\", \"RiserHeight\", \"CeilingCovering\", \"FloorCovering\", \"WallCovering\", \"HeadShape\", \"NutShape\", \n",
    "        \"WasherShape\", \"SpaceHumidityMax\", \"SpaceHumidityMin\", \"SeismicClassification\", \"HandicapAccessible\", \n",
    "        \"HasNonSkidSurface\", \"SprinklerProtection\", \"NaturalVentilationRate\", \"MechanicalVentilationRate\", \"Restriction\", \n",
    "        \"HazardConditions\", \"WireEmbeddingLength\", \"FixingSocketThreadLength\", \"AnchorBoltThreadLength\", \n",
    "        \"AnchorBoltProtrusionLength\", \"CornerFixingPlateLength\", \"WireLoopBasePlateLength\", \"EdgeFixingPlateLength\", \n",
    "        \"AnchorBoltLength\", \"ThreadLength\", \"DiagonalTrussLength\", \"ClearWidth\", \"StandardFixingPlateDepth\", \"Roll\", \n",
    "        \"GrossFloorArea\", \"GrossArea\", \"GrossVolume\", \"GrossPlannedArea\", \"GrossFootprintArea\", \"GrossSideArea\", \n",
    "        \"NetPlannedArea\", \"GrossSurfaceArea\", \"Area\", \"AirExchangeRate\", \"SpaceTemperature\", \"SpaceTemperatureMax\", \n",
    "        \"SpaceTemperatureMin\", \"Lighting\", \"RelativeHumidity\", \"AcousticRating\", \"Sensitivity\", \"RatedCurrent\", \n",
    "        \"InfiltrationSensible\", \"NumberOfPoles\", \"Diameter\", \"MarketSubCategory\", \"Length\", \"ConstructionMethod\", \n",
    "        \"HasSECCertification\", \"PubliclyAccessible\", \"Ventilation\", \"ArcheologicalData\", \"IsLandMarked\", \n",
    "        \"HasGreenCertification\", \"LoadBearing\", \"FireExit\", \"Combustible\", \"IsBuiltIn\", \"Compartmentation\", \"Width\", \n",
    "        \"Slope\", \"PitchAngle\", \"RequiredSlope\", \"BuildableArea\", \"NetFloorArea\", \"CrossSectionArea\", \"OuterSurfaceArea\", \n",
    "        \"Surface\", \"AssemblyCost\", \"Installation\", \"AssemblyBasedCosting\", \"WholeLife\", \"TotalOwnershipCost\", \n",
    "        \"Infiltration\", \"TotalAirFlow\", \"ConceptualCost\", \"UnitCost\", \"FutureCostAssumptions\", \"CoefficientOfPerformance\", \n",
    "        \"ThermalTransmittance\", \"LadderTrussBaseBarDiameter\", \"LadderTrussCrossBarDiameter\", \n",
    "        \"LadderTrussSecondaryBarDiameter\", \"WireDiameter\", \"DiagonalTrussBaseBarDiameter\", \n",
    "        \"DiagonalTrussSecondaryBarDiameter\", \"AnchorBoltDiameter\", \"DiagonalTrussCrossBarDiameter\", \n",
    "        \"FixingSocketThreadDiameter\", \"ThreadDiameter\", \"RequiredHeadroom\", \"Depth\", \"FloorCoveringThickness\", \n",
    "        \"WallCoveringThickness\", \"CeilingCoveringThickness\", \"NominalThickness\", \"FireRiskFactor\", \n",
    "        \"AirDiffusionPerformanceIndex\", \"WaterTightnessRating\", \"SecurityRating\", \"NetWeight\", \"ProcessName\", \n",
    "        \"NominalDepth\", \"NumberOfSocket\", \"WasherCount\", \"LandID\", \"AreaPerOccupant\", \"NumberOfStoreys\", \"LandTitleID\", \n",
    "        \"NutsCount\", \"RoomTag\", \"Count\", \"NumberOfRiser\", \"BuildingID\", \"CorrosionTreatment\", \"GrossPerimeter\", \n",
    "        \"Perimeter\", \"Weight\", \"OccupancyType\", \"GreenCertificationType\", \"No\", \"Type\", \"MarketCategory\", \"EnergySource\", \n",
    "        \"FireProtectionClass\", \"SoilType\", \"Illuminance\", \"NetVolume\", \"Water\", \"Fuel\", \"Electricity\", \"Intermittent\", \n",
    "        \"Staggered\", \"KeyShape\", \"Description\", \"Name\", \"PredefinedType\", \"HasAssociations\", \"RefElevation\", \n",
    "        \"AnchorageSlip\", \"BuildingAddress\", \"SiteAddress\", \"ElevationwithFlooring\", \"ElevationOfRefHeight\", \"Phase\", \n",
    "        \"TensionForce\", \"ObjectType\", \"RefLatitud\", \"RefLongitud\", \"PreStress\", \"PanelPosition\", \"ThresholdDepth\", \n",
    "        \"CasingDepth\", \"BendingParameters\", \"BendingShapeCode\", \"BarSurface\", \"MeshWidth\", \"PanelWidth\", \"FinishTime\", \n",
    "        \"LongitudinalBarCrossSectionArea\", \"TransverseBarCrossSectionArea\", \"Creators\", \"Category\", \"LongName\", \n",
    "        \"FrictionCoefficient\", \"Identification\", \"ElectronicMailAddresses\", \"LiningOffset\", \"SheathDiameter\", \"Location\", \n",
    "        \"NominalDiameter\", \"LongitudinalBarNominalDiameter\", \"TransverseBarNominalDiameter\", \"LongitudinalBarSpacing\", \n",
    "        \"TransverseBarSpacing\", \"LiningThickness\", \"IfcOrganization.Name\", \"ScheduledDuration\", \n",
    "        \"ScheduleStart\", \"MinCurvatureRadius\", \"IsMilestone\", \"OperationType\", \"PartitioningType\", \"Priority\", \"LiningDepth\"]\n",
    "    }"
   ]
  },
  {
   "cell_type": "code",
   "execution_count": 18,
   "metadata": {},
   "outputs": [],
   "source": [
    "def check(value, list):\n",
    "        if value in list:\n",
    "            return \"Found\"\n",
    "        else:\n",
    "            return \"No value\"\n",
    "\n",
    "df['BIMChecker'] = df[\"IfcProperties\"].apply(check, args=(datadict[\"A\"],))\n"
   ]
  },
  {
   "cell_type": "markdown",
   "metadata": {},
   "source": [
    "# Reports"
   ]
  },
  {
   "cell_type": "code",
   "execution_count": 19,
   "metadata": {},
   "outputs": [],
   "source": [
    "import pandas as pd\n",
    "from openpyxl import Workbook\n",
    "from openpyxl.styles import Alignment, Border, Font, PatternFill, Side\n",
    "from openpyxl.utils.dataframe import dataframe_to_rows"
   ]
  },
  {
   "cell_type": "code",
   "execution_count": 20,
   "metadata": {},
   "outputs": [],
   "source": [
    "class Report:\n",
    "    \"\"\"Report Model\"\"\"\n",
    "    def __init__(self, df: pd.DataFrame) -> None:\n",
    "        self.df = df\n",
    "        self.wb = Workbook()\n",
    "        self.ws = self.wb.create_sheet(title=\"Report\")\n",
    "        self.__convert_all_values_to_string()\n",
    "        self.__insert_dataframe()\n",
    "        self.__remove_default_ws()\n",
    "        self.__apply_properties()\n",
    "\n",
    "    def __apply_properties(self) -> None:\n",
    "        \"\"\"Sets configurations for the workbook\"\"\"\n",
    "        # color the first row with with #797979\n",
    "        for row in self.ws.iter_rows(min_row=1, max_row=1, min_col=1, max_col=self.ws.max_column):\n",
    "            for cell in row:\n",
    "                cell.fill = PatternFill(start_color='797979', end_color='797979', fill_type='solid')\n",
    "                # set font color to white\n",
    "                cell.font = Font(\n",
    "                    name='Calibri',\n",
    "                    size=12,\n",
    "                    bold=True,\n",
    "                    italic=False,\n",
    "                    vertAlign=None,\n",
    "                    underline='none',\n",
    "                    strike=False,\n",
    "                    color='FFFFFF'  # black\n",
    "                )\n",
    "                # set alignment to center\n",
    "                cell.alignment = Alignment(horizontal=\"center\", vertical=\"center\")\n",
    "                # set border to thin\n",
    "                cell.border = Border(\n",
    "                    left=Side(style=\"thin\"), \n",
    "                    right=Side(style=\"thin\"), \n",
    "                    top=Side(style=\"thin\"), \n",
    "                    bottom=Side(style=\"thin\")\n",
    "                )\n",
    "        \n",
    "\n",
    "        # set width for columns\n",
    "        self.ws.column_dimensions[\"A\"].width = 26\n",
    "        self.ws.column_dimensions[\"B\"].width = 26\n",
    "        self.ws.column_dimensions[\"C\"].width = 26\n",
    "        self.ws.column_dimensions[\"D\"].width = 26\n",
    "        self.ws.column_dimensions[\"E\"].width = 19\n",
    "        self.ws.column_dimensions[\"F\"].width = 20\n",
    "        self.ws.column_dimensions[\"G\"].width = 19\n",
    "\n",
    "        self.ws.freeze_panes = \"A2\"\n",
    "        self.ws.sheet_view.showGridLines = False\n",
    "\n",
    "    def __convert_all_values_to_string(self) -> None:\n",
    "        \"\"\"Converts all values in the dataframe to string\"\"\"\n",
    "        self.df = self.df.apply(lambda x: x.map(lambda y: str(y[0]) if isinstance(y, list) else str(y)))\n",
    "\n",
    "\n",
    "    def __insert_dataframe(self) -> None:\n",
    "        \"\"\"Inserts the dataframe in the workbook\"\"\"\n",
    "        for value in dataframe_to_rows(df=self.df, index=False, header=True):\n",
    "            self.ws.append(value)\n",
    "\n",
    "    def __remove_default_ws(self) -> None:\n",
    "        \"\"\"Remove the default worksheet\"\"\"\n",
    "        self.wb.remove(self.wb[\"Sheet\"])"
   ]
  },
  {
   "cell_type": "code",
   "execution_count": null,
   "metadata": {},
   "outputs": [],
   "source": [
    "# Create report\n",
    "report = Report(df)\n",
    "\n",
    "# Save to excel\n",
    "report.wb.save(\"reporte.xlsx\")"
   ]
  }
 ],
 "metadata": {
  "kernelspec": {
   "display_name": "Python 3",
   "language": "python",
   "name": "python3"
  },
  "language_info": {
   "codemirror_mode": {
    "name": "ipython",
    "version": 3
   },
   "file_extension": ".py",
   "mimetype": "text/x-python",
   "name": "python",
   "nbconvert_exporter": "python",
   "pygments_lexer": "ipython3",
   "version": "3.11.4"
  }
 },
 "nbformat": 4,
 "nbformat_minor": 2
}
